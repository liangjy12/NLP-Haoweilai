{
 "cells": [
  {
   "cell_type": "markdown",
   "metadata": {},
   "source": [
    "# Task 1"
   ]
  },
  {
   "cell_type": "code",
   "execution_count": 1,
   "metadata": {},
   "outputs": [
    {
     "name": "stderr",
     "output_type": "stream",
     "text": [
      "d:\\program_files\\miniconda3\\lib\\site-packages\\gensim\\utils.py:1209: UserWarning: detected Windows; aliasing chunkize to chunkize_serial\n",
      "  warnings.warn(\"detected Windows; aliasing chunkize to chunkize_serial\")\n"
     ]
    }
   ],
   "source": [
    "import numpy as np\n",
    "import pandas as pd\n",
    "import re\n",
    "import jieba\n",
    "import random\n",
    "from sklearn.feature_extraction.text import CountVectorizer\n",
    "from sklearn.feature_extraction.text import TfidfTransformer\n",
    "from sklearn.metrics.pairwise import cosine_similarity\n",
    "from sklearn.model_selection import train_test_split\n",
    "from sklearn.linear_model import LogisticRegression\n",
    "from sklearn import svm\n",
    "from sklearn.metrics import precision_recall_fscore_support, roc_curve, roc_auc_score\n",
    "from sklearn.metrics import precision_score,recall_score,f1_score,classification_report\n",
    "from sklearn.model_selection import cross_val_score\n",
    "import matplotlib.pyplot as plt\n",
    "from functools import reduce\n",
    "from gensim.models import Word2Vec\n",
    "from gensim.models.doc2vec import Doc2Vec, TaggedDocument"
   ]
  },
  {
   "cell_type": "markdown",
   "metadata": {},
   "source": [
    "### 使用pandas读入csv数据文件"
   ]
  },
  {
   "cell_type": "code",
   "execution_count": 2,
   "metadata": {},
   "outputs": [],
   "source": [
    "tiku_question = pd.read_csv('../../camp_dataset/data/tiku_question_sx.csv', encoding='utf-8',usecols = ['que_id', 'content'],low_memory=False)"
   ]
  },
  {
   "cell_type": "code",
   "execution_count": 3,
   "metadata": {},
   "outputs": [
    {
     "data": {
      "text/plain": [
       "'<p>问函数$$\\\\phi \\\\left( x \\\\right)=\\\\sqrt{\\\\frac{a}{{{x}^{2}}+1}}\\\\left( a&gt;0 \\\\right)$$能否成为$$2$$级分裂函数，若能，则求出参数$$a$$的取值范围；若不能请说明理由．</p>'"
      ]
     },
     "execution_count": 3,
     "metadata": {},
     "output_type": "execute_result"
    }
   ],
   "source": [
    "tiku_question['content'][1]"
   ]
  },
  {
   "cell_type": "markdown",
   "metadata": {},
   "source": [
    "### 去除非中文字符和空行"
   ]
  },
  {
   "cell_type": "code",
   "execution_count": 4,
   "metadata": {},
   "outputs": [],
   "source": [
    "def chinese_only(text,key_id,content):\n",
    "    que_id=[]\n",
    "    que_content=[]\n",
    "    line_id = []\n",
    "    nan_num = 0\n",
    "    for i in range(text.shape[0]):\n",
    "        line = text[content][i]\n",
    "        if not pd.isnull(line):\n",
    "            line = ''.join(re.findall(r'[\\u4e00-\\u9fa5]',line))\n",
    "            if not line=='':\n",
    "                que_id.append(text[key_id][i])\n",
    "                que_content.append(' '.join(jieba.cut(line, cut_all=False)))\n",
    "                line_id.append(i+2)\n",
    "            else:\n",
    "                nan_num += 1\n",
    "        else:\n",
    "            nan_num += 1\n",
    "    print(nan_num,'lines deleted(No Chinese Character)!')\n",
    "    return que_id, que_content, line_id, nan_num"
   ]
  },
  {
   "cell_type": "code",
   "execution_count": 5,
   "metadata": {},
   "outputs": [
    {
     "name": "stderr",
     "output_type": "stream",
     "text": [
      "Building prefix dict from the default dictionary ...\n",
      "Loading model from cache C:\\Users\\liang\\AppData\\Local\\Temp\\jieba.cache\n",
      "Loading model cost 0.918 seconds.\n",
      "Prefix dict has been built succesfully.\n"
     ]
    },
    {
     "name": "stdout",
     "output_type": "stream",
     "text": [
      "1854 lines deleted(No Chinese Character)!\n"
     ]
    }
   ],
   "source": [
    "que_id, que_content, line_id, nan_num = chinese_only(tiku_question,'que_id','content')"
   ]
  },
  {
   "cell_type": "markdown",
   "metadata": {},
   "source": [
    "### 计算词袋（tf，tfidf）"
   ]
  },
  {
   "cell_type": "code",
   "execution_count": 6,
   "metadata": {},
   "outputs": [],
   "source": [
    "def get_bow(text):\n",
    "    vectorizer = CountVectorizer(min_df=1)\n",
    "    transformer = TfidfTransformer()\n",
    "    tf = vectorizer.fit_transform(text)\n",
    "    tfidf = transformer.fit_transform(tf)\n",
    "    word = vectorizer.get_feature_names()\n",
    "    return tf, tfidf, word"
   ]
  },
  {
   "cell_type": "code",
   "execution_count": 7,
   "metadata": {},
   "outputs": [],
   "source": [
    "tf,tfidf,words = get_bow(que_content)"
   ]
  },
  {
   "cell_type": "markdown",
   "metadata": {},
   "source": [
    "### 随机选择5道题目"
   ]
  },
  {
   "cell_type": "code",
   "execution_count": 8,
   "metadata": {},
   "outputs": [],
   "source": [
    "random_q = np.random.randint(0,tf.shape[0],5)"
   ]
  },
  {
   "cell_type": "markdown",
   "metadata": {},
   "source": [
    "### 计算余弦相似度并输出最相近的3道题目"
   ]
  },
  {
   "cell_type": "code",
   "execution_count": 9,
   "metadata": {},
   "outputs": [],
   "source": [
    "cosine_tf = cosine_similarity(tf[random_q],tf)\n",
    "cosine_tfidf = cosine_similarity(tfidf[random_q],tfidf)"
   ]
  },
  {
   "cell_type": "code",
   "execution_count": 10,
   "metadata": {
    "scrolled": false
   },
   "outputs": [
    {
     "name": "stdout",
     "output_type": "stream",
     "text": [
      "随机抽选的第1/5题： \n",
      "\n",
      "题号：56461\n",
      "题目内容：命题 存在 使得 的 否定 是 \n",
      "\n",
      "相似度最高的三个题目为： [59087, 6024, 6081] \n",
      "\n",
      "59087  命题 使得 的 否定 是\n",
      "6024   命题 使得 的 否定 是\n",
      "6081   命题 存在 实数 使得 的 否定 是 \n",
      "\n",
      "随机抽选的第2/5题： \n",
      "\n",
      "题号：80328\n",
      "题目内容：已知 函数 \n",
      "\n",
      "相似度最高的三个题目为： [28863, 57999, 9866] \n",
      "\n",
      "28863  已知 函数\n",
      "57999  已知 函数\n",
      "9866   已知 函数 则 \n",
      "\n",
      "随机抽选的第3/5题： \n",
      "\n",
      "题号：81155\n",
      "题目内容：若 曲线 有 一切 线 与 直线 垂直 则 切点 可能 为 \n",
      "\n",
      "相似度最高的三个题目为： [52341, 93076, 29519] \n",
      "\n",
      "52341  如果 曲线 的 某 一切 线 与 直线 垂直 求 切点 坐标 与 切线 的 方程\n",
      "93076  若 曲线 的 某 一切 线 与 直线 垂直 则 切点 坐标 为\n",
      "29519  若 曲线 有 一切 线 与 直线 垂直 则 切点 可能 为 \n",
      "\n",
      "随机抽选的第4/5题： \n",
      "\n",
      "题号：49963\n",
      "题目内容：在 中 分别 为 内 角的对边 若且 则 \n",
      "\n",
      "相似度最高的三个题目为： [65829, 753, 27949] \n",
      "\n",
      "65829  在 中 角的对边 分别 为 若且 则 为\n",
      "753    在 中 角的对边 分别 为 若且 则\n",
      "27949  设 的 内 角的对边 分别 为 若且 则 \n",
      "\n",
      "随机抽选的第5/5题： \n",
      "\n",
      "题号：3400\n",
      "题目内容：若求 的 值 \n",
      "\n",
      "相似度最高的三个题目为： [66633, 81526, 25965] \n",
      "\n",
      "66633  若求 的 长\n",
      "81526  若求 的 值\n",
      "25965  若求 \n",
      "\n"
     ]
    }
   ],
   "source": [
    "for i, r in enumerate(random_q):\n",
    "    q_ind_rel = []\n",
    "    line2 = cosine_tfidf[i]\n",
    "    line2_noself = np.delete(line2, r)\n",
    "    q_ind = np.argpartition(line2_noself, -3)[-3:]\n",
    "    for m, k in enumerate(q_ind):\n",
    "        if k>=r:\n",
    "            q_ind_rel.append(line_id[k+1])\n",
    "            q_ind[m] = k+1\n",
    "        else:\n",
    "            q_ind_rel.append(line_id[k])\n",
    "    print('随机抽选的第{}/5题： \\n\\n题号：{}\\n题目内容：{}'.format(i+1,line_id[r],que_content[r]),'\\n')\n",
    "    print('相似度最高的三个题目为：',q_ind_rel,'\\n')\n",
    "    print('{:<7d}{}'.format(q_ind_rel[0],que_content[q_ind[0]]))\n",
    "    print('{:<7d}{}'.format(q_ind_rel[1],que_content[q_ind[1]]))\n",
    "    print('{:<7d}{}'.format(q_ind_rel[2],que_content[q_ind[2]]),'\\n')"
   ]
  },
  {
   "cell_type": "markdown",
   "metadata": {},
   "source": [
    "# Task 2"
   ]
  },
  {
   "cell_type": "markdown",
   "metadata": {},
   "source": [
    "### 读入数据文件"
   ]
  },
  {
   "cell_type": "code",
   "execution_count": 11,
   "metadata": {},
   "outputs": [],
   "source": [
    "knowledge_hierarchy = pd.read_csv('../../camp_dataset/data/knowledge_hierarchy.csv', usecols = ['id', 'name','degree'], encoding = 'utf-8')\n",
    "question_knowledge_hierarchy = pd.read_csv('../../camp_dataset/data/question_knowledge_hierarchy_sx.csv',  encoding = 'utf-8')"
   ]
  },
  {
   "cell_type": "code",
   "execution_count": 12,
   "metadata": {},
   "outputs": [
    {
     "data": {
      "text/html": [
       "<div>\n",
       "<style scoped>\n",
       "    .dataframe tbody tr th:only-of-type {\n",
       "        vertical-align: middle;\n",
       "    }\n",
       "\n",
       "    .dataframe tbody tr th {\n",
       "        vertical-align: top;\n",
       "    }\n",
       "\n",
       "    .dataframe thead th {\n",
       "        text-align: right;\n",
       "    }\n",
       "</style>\n",
       "<table border=\"1\" class=\"dataframe\">\n",
       "  <thead>\n",
       "    <tr style=\"text-align: right;\">\n",
       "      <th></th>\n",
       "      <th>id</th>\n",
       "      <th>name</th>\n",
       "      <th>degree</th>\n",
       "    </tr>\n",
       "  </thead>\n",
       "  <tbody>\n",
       "    <tr>\n",
       "      <th>0</th>\n",
       "      <td>000db1a267624589a55e859ad4b32bfa</td>\n",
       "      <td>运算结果估算</td>\n",
       "      <td>3</td>\n",
       "    </tr>\n",
       "    <tr>\n",
       "      <th>1</th>\n",
       "      <td>001c3d25db0a42c29e42d5647299bc5d</td>\n",
       "      <td>囚笼政策</td>\n",
       "      <td>3</td>\n",
       "    </tr>\n",
       "    <tr>\n",
       "      <th>2</th>\n",
       "      <td>0025ee71f27b4e3daa9f4a7f164b3962</td>\n",
       "      <td>加减法应用顺口溜</td>\n",
       "      <td>4</td>\n",
       "    </tr>\n",
       "    <tr>\n",
       "      <th>3</th>\n",
       "      <td>0026cad84e364586bba7c692f1469a5c</td>\n",
       "      <td>多项式的基本概念</td>\n",
       "      <td>4</td>\n",
       "    </tr>\n",
       "    <tr>\n",
       "      <th>4</th>\n",
       "      <td>003203f87c434e7dba19c76e384d1044</td>\n",
       "      <td>夏朝</td>\n",
       "      <td>3</td>\n",
       "    </tr>\n",
       "  </tbody>\n",
       "</table>\n",
       "</div>"
      ],
      "text/plain": [
       "                                 id      name  degree\n",
       "0  000db1a267624589a55e859ad4b32bfa    运算结果估算       3\n",
       "1  001c3d25db0a42c29e42d5647299bc5d      囚笼政策       3\n",
       "2  0025ee71f27b4e3daa9f4a7f164b3962  加减法应用顺口溜       4\n",
       "3  0026cad84e364586bba7c692f1469a5c  多项式的基本概念       4\n",
       "4  003203f87c434e7dba19c76e384d1044        夏朝       3"
      ]
     },
     "execution_count": 12,
     "metadata": {},
     "output_type": "execute_result"
    }
   ],
   "source": [
    "knowledge_hierarchy.head()"
   ]
  },
  {
   "cell_type": "markdown",
   "metadata": {},
   "source": [
    "### 寻找类型为“函数与导数”和“三角函数与解三角形”的题目id"
   ]
  },
  {
   "cell_type": "code",
   "execution_count": 13,
   "metadata": {
    "scrolled": true
   },
   "outputs": [
    {
     "data": {
      "text/html": [
       "<div>\n",
       "<style scoped>\n",
       "    .dataframe tbody tr th:only-of-type {\n",
       "        vertical-align: middle;\n",
       "    }\n",
       "\n",
       "    .dataframe tbody tr th {\n",
       "        vertical-align: top;\n",
       "    }\n",
       "\n",
       "    .dataframe thead th {\n",
       "        text-align: right;\n",
       "    }\n",
       "</style>\n",
       "<table border=\"1\" class=\"dataframe\">\n",
       "  <thead>\n",
       "    <tr style=\"text-align: right;\">\n",
       "      <th></th>\n",
       "      <th>id</th>\n",
       "      <th>name</th>\n",
       "      <th>degree</th>\n",
       "    </tr>\n",
       "  </thead>\n",
       "  <tbody>\n",
       "    <tr>\n",
       "      <th>8850</th>\n",
       "      <td>hcwf4avcmp8l53s5iq010pelwlce000d</td>\n",
       "      <td>函数与导数</td>\n",
       "      <td>1</td>\n",
       "    </tr>\n",
       "    <tr>\n",
       "      <th>8890</th>\n",
       "      <td>hcwf4avcmp8l53s5iq010pelwlce0035</td>\n",
       "      <td>三角函数与解三角形</td>\n",
       "      <td>1</td>\n",
       "    </tr>\n",
       "  </tbody>\n",
       "</table>\n",
       "</div>"
      ],
      "text/plain": [
       "                                    id       name  degree\n",
       "8850  hcwf4avcmp8l53s5iq010pelwlce000d      函数与导数       1\n",
       "8890  hcwf4avcmp8l53s5iq010pelwlce0035  三角函数与解三角形       1"
      ]
     },
     "execution_count": 13,
     "metadata": {},
     "output_type": "execute_result"
    }
   ],
   "source": [
    "knowledge_hierarchy[(knowledge_hierarchy['name']==u'三角函数与解三角形') | (knowledge_hierarchy['name']==u'函数与导数') & (knowledge_hierarchy['degree']==1)]"
   ]
  },
  {
   "cell_type": "markdown",
   "metadata": {},
   "source": [
    "### 获取满足条件的题目内容"
   ]
  },
  {
   "cell_type": "code",
   "execution_count": 14,
   "metadata": {},
   "outputs": [],
   "source": [
    "#qkh_fun_id = question_knowledge_hierarchy[question_knowledge_hierarchy['kh_id']=='hcwf4avcmp8l53s5iq010pelwlce000d'].loc[:,['question_id']]\n",
    "#qkh_tri_id = question_knowledge_hierarchy[question_knowledge_hierarchy['kh_id']=='hcwf4avcmp8l53s5iq010pelwlce0035'].loc[:,['question_id']]\n",
    "qkh = question_knowledge_hierarchy[(question_knowledge_hierarchy['kh_id']=='hcwf4avcmp8l53s5iq010pelwlce0035') | (question_knowledge_hierarchy['kh_id']=='hcwf4avcmp8l53s5iq010pelwlce000d')].loc[:,['kh_id','question_id']]"
   ]
  },
  {
   "cell_type": "code",
   "execution_count": 15,
   "metadata": {},
   "outputs": [],
   "source": [
    "tiku_question_new = tiku_question.rename(columns={'que_id':'question_id'})\n",
    "#question_fun = pd.merge(qkh_fun_id, tiku_question_new, on='question_id')\n",
    "#question_tri = pd.merge(qkh_tri_id, tiku_question_new, on='question_id')\n",
    "question_fun_tri = pd.merge(qkh, tiku_question_new, on='question_id')"
   ]
  },
  {
   "cell_type": "code",
   "execution_count": 16,
   "metadata": {},
   "outputs": [
    {
     "data": {
      "text/html": [
       "<div>\n",
       "<style scoped>\n",
       "    .dataframe tbody tr th:only-of-type {\n",
       "        vertical-align: middle;\n",
       "    }\n",
       "\n",
       "    .dataframe tbody tr th {\n",
       "        vertical-align: top;\n",
       "    }\n",
       "\n",
       "    .dataframe thead th {\n",
       "        text-align: right;\n",
       "    }\n",
       "</style>\n",
       "<table border=\"1\" class=\"dataframe\">\n",
       "  <thead>\n",
       "    <tr style=\"text-align: right;\">\n",
       "      <th></th>\n",
       "      <th>kh_id</th>\n",
       "      <th>question_id</th>\n",
       "      <th>content</th>\n",
       "    </tr>\n",
       "  </thead>\n",
       "  <tbody>\n",
       "    <tr>\n",
       "      <th>0</th>\n",
       "      <td>hcwf4avcmp8l53s5iq010pelwlce000d</td>\n",
       "      <td>a65e49dd26a0476cb69e32e5f5e511e5</td>\n",
       "      <td>&lt;p&gt;已知$$f(x)$$为定义在$$(0,+\\infty )$$上的连续可导函数，且$$f...</td>\n",
       "    </tr>\n",
       "    <tr>\n",
       "      <th>1</th>\n",
       "      <td>hcwf4avcmp8l53s5iq010pelwlce000d</td>\n",
       "      <td>ff8080814db3e529014df75290f11e7e</td>\n",
       "      <td>&lt;p&gt;已知函数$$f\\left( x \\right)=\\left| \\ln x \\right...</td>\n",
       "    </tr>\n",
       "    <tr>\n",
       "      <th>2</th>\n",
       "      <td>hcwf4avcmp8l53s5iq010pelwlce000d</td>\n",
       "      <td>2965364a3fa14cbf9e3e953d27fb9254</td>\n",
       "      <td>&lt;p&gt;将所有平面向量组成的集合记作$${{R}^{2}}$$，$$f$$是从$${{R}^{...</td>\n",
       "    </tr>\n",
       "    <tr>\n",
       "      <th>3</th>\n",
       "      <td>hcwf4avcmp8l53s5iq010pelwlce0035</td>\n",
       "      <td>d568513c37fa4621b1e516ebcaf5bd48</td>\n",
       "      <td>&lt;p&gt;请用&amp;ldquo;五点法&amp;rdquo;画出函数$$f(x)$$在长度为一个周期的闭区间...</td>\n",
       "    </tr>\n",
       "    <tr>\n",
       "      <th>4</th>\n",
       "      <td>hcwf4avcmp8l53s5iq010pelwlce000d</td>\n",
       "      <td>a81eb192610c45c98b4480afb6400ee3</td>\n",
       "      <td>&lt;p&gt;求函数$$f(x)$$的极值．&lt;/p&gt;</td>\n",
       "    </tr>\n",
       "  </tbody>\n",
       "</table>\n",
       "</div>"
      ],
      "text/plain": [
       "                              kh_id                       question_id  \\\n",
       "0  hcwf4avcmp8l53s5iq010pelwlce000d  a65e49dd26a0476cb69e32e5f5e511e5   \n",
       "1  hcwf4avcmp8l53s5iq010pelwlce000d  ff8080814db3e529014df75290f11e7e   \n",
       "2  hcwf4avcmp8l53s5iq010pelwlce000d  2965364a3fa14cbf9e3e953d27fb9254   \n",
       "3  hcwf4avcmp8l53s5iq010pelwlce0035  d568513c37fa4621b1e516ebcaf5bd48   \n",
       "4  hcwf4avcmp8l53s5iq010pelwlce000d  a81eb192610c45c98b4480afb6400ee3   \n",
       "\n",
       "                                             content  \n",
       "0  <p>已知$$f(x)$$为定义在$$(0,+\\infty )$$上的连续可导函数，且$$f...  \n",
       "1  <p>已知函数$$f\\left( x \\right)=\\left| \\ln x \\right...  \n",
       "2  <p>将所有平面向量组成的集合记作$${{R}^{2}}$$，$$f$$是从$${{R}^{...  \n",
       "3  <p>请用&ldquo;五点法&rdquo;画出函数$$f(x)$$在长度为一个周期的闭区间...  \n",
       "4                             <p>求函数$$f(x)$$的极值．</p>  "
      ]
     },
     "execution_count": 16,
     "metadata": {},
     "output_type": "execute_result"
    }
   ],
   "source": [
    "question_fun_tri.head()"
   ]
  },
  {
   "cell_type": "markdown",
   "metadata": {},
   "source": [
    "### 计算tfidf值"
   ]
  },
  {
   "cell_type": "code",
   "execution_count": 17,
   "metadata": {},
   "outputs": [
    {
     "name": "stdout",
     "output_type": "stream",
     "text": [
      "1348 lines deleted(No Chinese Character)!\n"
     ]
    }
   ],
   "source": [
    "#que_fun_id, que_fun_content, line_fun_id, nan_fun_num = chinese_only(question_fun,'question_id')\n",
    "#que_tri_id, que_tri_content, line_tri_id, nan_tri_num = chinese_only(question_tri,'question_id')\n",
    "que_fun_tri_id, que_fun_tri_content, line_fun_tri_id, nan_fun_tri_num = chinese_only(question_fun_tri,'kh_id','content')\n",
    "#tf_fun,tfidf_fun,words_fun = get_bow(que_fun_content)\n",
    "#tf_tri,tfidf_tri,words_tri = get_bow(que_tri_content)\n",
    "tf_fun_tri,tfidf_fun_tri,words_fun_tri = get_bow(que_fun_tri_content)"
   ]
  },
  {
   "cell_type": "code",
   "execution_count": 18,
   "metadata": {},
   "outputs": [],
   "source": [
    "label_lo=[]\n",
    "for ii in que_fun_tri_id:\n",
    "    if ii=='hcwf4avcmp8l53s5iq010pelwlce000d':\n",
    "        label_lo.append('fun')\n",
    "    else:\n",
    "        label_lo.append('tri')"
   ]
  },
  {
   "cell_type": "markdown",
   "metadata": {},
   "source": [
    "### 将数据分为测试集和训练集"
   ]
  },
  {
   "cell_type": "code",
   "execution_count": 19,
   "metadata": {},
   "outputs": [],
   "source": [
    "X_train, X_test, y_train, y_test = train_test_split(tfidf_fun_tri,label_lo, test_size = 0.5, random_state = 0)"
   ]
  },
  {
   "cell_type": "code",
   "execution_count": 20,
   "metadata": {},
   "outputs": [],
   "source": [
    "#train_fun_ind, test_fun_ind = train_test_split(range(tfidf_fun.shape[0]), test_size = 0.5, random_state = 0)\n",
    "#train_tri_ind, test_tri_ind = train_test_split(range(tfidf_tri.shape[0]), test_size = 0.5, random_state = 0)\n",
    "#train_ind, test_ind = train_test_split(range(tfidf_fun_tri.shape[0]), test_size = 0.5, random_state = 0)"
   ]
  },
  {
   "cell_type": "markdown",
   "metadata": {},
   "source": [
    "### 效果评价"
   ]
  },
  {
   "cell_type": "code",
   "execution_count": 21,
   "metadata": {},
   "outputs": [
    {
     "name": "stdout",
     "output_type": "stream",
     "text": [
      "score:  0.8522794262134015 \n",
      " precision:  [0.87369304 0.78403949] \n",
      " recall:  [0.9280181 0.6607731] \n",
      " f_score:  [0.90003657 0.71714796]\n"
     ]
    }
   ],
   "source": [
    "Logist2 = LogisticRegression()\n",
    "Logist2.fit(X_train, y_train)\n",
    "score = Logist2.score(X_test, y_test)\n",
    "predict2 = Logist2.predict(X_test)\n",
    "predict_prob2 = Logist2.predict_proba(X_test)[:,1]\n",
    "precision, recall, f_score, nnn = precision_recall_fscore_support(y_test, predict2)\n",
    "print('score: ',score,'\\n','precision: ',precision,'\\n','recall: ',recall,'\\n','f_score: ',f_score)\n",
    "#auc_score = roc_auc_score(y_test, predict2)"
   ]
  },
  {
   "cell_type": "markdown",
   "metadata": {},
   "source": [
    "# Task 3"
   ]
  },
  {
   "cell_type": "code",
   "execution_count": 22,
   "metadata": {},
   "outputs": [
    {
     "data": {
      "text/html": [
       "<div>\n",
       "<style scoped>\n",
       "    .dataframe tbody tr th:only-of-type {\n",
       "        vertical-align: middle;\n",
       "    }\n",
       "\n",
       "    .dataframe tbody tr th {\n",
       "        vertical-align: top;\n",
       "    }\n",
       "\n",
       "    .dataframe thead th {\n",
       "        text-align: right;\n",
       "    }\n",
       "</style>\n",
       "<table border=\"1\" class=\"dataframe\">\n",
       "  <thead>\n",
       "    <tr style=\"text-align: right;\">\n",
       "      <th></th>\n",
       "      <th>id</th>\n",
       "      <th>name</th>\n",
       "    </tr>\n",
       "  </thead>\n",
       "  <tbody>\n",
       "    <tr>\n",
       "      <th>0</th>\n",
       "      <td>000db1a267624589a55e859ad4b32bfa</td>\n",
       "      <td>运算结果估算</td>\n",
       "    </tr>\n",
       "    <tr>\n",
       "      <th>1</th>\n",
       "      <td>001c3d25db0a42c29e42d5647299bc5d</td>\n",
       "      <td>囚笼政策</td>\n",
       "    </tr>\n",
       "    <tr>\n",
       "      <th>2</th>\n",
       "      <td>0025ee71f27b4e3daa9f4a7f164b3962</td>\n",
       "      <td>加减法应用顺口溜</td>\n",
       "    </tr>\n",
       "    <tr>\n",
       "      <th>3</th>\n",
       "      <td>0026cad84e364586bba7c692f1469a5c</td>\n",
       "      <td>多项式的基本概念</td>\n",
       "    </tr>\n",
       "    <tr>\n",
       "      <th>4</th>\n",
       "      <td>003203f87c434e7dba19c76e384d1044</td>\n",
       "      <td>夏朝</td>\n",
       "    </tr>\n",
       "  </tbody>\n",
       "</table>\n",
       "</div>"
      ],
      "text/plain": [
       "                                 id      name\n",
       "0  000db1a267624589a55e859ad4b32bfa    运算结果估算\n",
       "1  001c3d25db0a42c29e42d5647299bc5d      囚笼政策\n",
       "2  0025ee71f27b4e3daa9f4a7f164b3962  加减法应用顺口溜\n",
       "3  0026cad84e364586bba7c692f1469a5c  多项式的基本概念\n",
       "4  003203f87c434e7dba19c76e384d1044        夏朝"
      ]
     },
     "execution_count": 22,
     "metadata": {},
     "output_type": "execute_result"
    }
   ],
   "source": [
    "knowledge_hierarchy = pd.read_csv('../../camp_dataset/data/knowledge_hierarchy.csv', encoding='utf-8',usecols = ['id','name'],low_memory=False)\n",
    "knowledge_hierarchy.head()"
   ]
  },
  {
   "cell_type": "code",
   "execution_count": 23,
   "metadata": {},
   "outputs": [
    {
     "name": "stdout",
     "output_type": "stream",
     "text": [
      "1429 lines deleted(No Chinese Character)!\n"
     ]
    }
   ],
   "source": [
    "tem1, kh, tem2, tem3 = chinese_only(knowledge_hierarchy,'id','name')"
   ]
  },
  {
   "cell_type": "code",
   "execution_count": 24,
   "metadata": {},
   "outputs": [],
   "source": [
    "words_all = reduce(lambda x, y: x+' '+y, kh)"
   ]
  },
  {
   "cell_type": "code",
   "execution_count": 25,
   "metadata": {},
   "outputs": [],
   "source": [
    "#去除重复的字词\n",
    "words_all_single = list(set(words_all.split()))"
   ]
  },
  {
   "cell_type": "markdown",
   "metadata": {},
   "source": [
    "### 载入网上已经训练好的模型，来源：https://github.com/Kyubyong/wordvectors"
   ]
  },
  {
   "cell_type": "code",
   "execution_count": 26,
   "metadata": {},
   "outputs": [],
   "source": [
    "model3 = Word2Vec.load('../../camp_dataset/zh/zh.bin')\n",
    "dict3 = dict()\n",
    "for word in words_all_single:\n",
    "    if word in model3.wv.vocab.keys():\n",
    "        vec = model3.wv[word]\n",
    "        dict3[word] = vec"
   ]
  },
  {
   "cell_type": "markdown",
   "metadata": {},
   "source": [
    "### 随机选取5个词，并判断与其最相近的10个词"
   ]
  },
  {
   "cell_type": "code",
   "execution_count": 27,
   "metadata": {},
   "outputs": [
    {
     "name": "stdout",
     "output_type": "stream",
     "text": [
      "\n",
      "随机抽选的第1/5个数字： 模范 \n",
      "\n",
      "相似度最高的10个词为：\n",
      "\n",
      "劳动模范      0.5404252409934998  \n",
      "荣誉称号      0.49999362230300903 \n",
      "棒棒        0.49693912267684937 \n",
      "少儿        0.4604554772377014  \n",
      "实验学校      0.4591975212097168  \n",
      "团委        0.4566306471824646  \n",
      "十佳        0.4556729793548584  \n",
      "雷锋        0.4536076486110687  \n",
      "摇篮        0.44403955340385437 \n",
      "爱国        0.43517807126045227 \n",
      "\n",
      "-------------------\n",
      "\n",
      "随机抽选的第2/5个数字： 科学家 \n",
      "\n",
      "相似度最高的10个词为：\n",
      "\n",
      "生物学家      0.7366187572479248  \n",
      "地质学家      0.7248033285140991  \n",
      "物理学家      0.7125248908996582  \n",
      "化学家       0.703750729560852   \n",
      "数学家       0.668906569480896   \n",
      "心理学家      0.6650621891021729  \n",
      "学家        0.663875937461853   \n",
      "学者        0.6625305414199829  \n",
      "天文学家      0.6580584049224854  \n",
      "人类学家      0.6567651033401489  \n",
      "\n",
      "-------------------\n",
      "\n",
      "随机抽选的第3/5个数字： 灵魂 \n",
      "\n",
      "相似度最高的10个词为：\n",
      "\n",
      "肉体        0.7606858611106873  \n",
      "心灵        0.7533289194107056  \n",
      "梦境        0.6931494474411011  \n",
      "复活        0.6864750385284424  \n",
      "永恒        0.6830259561538696  \n",
      "救赎        0.6646701097488403  \n",
      "恶魔        0.6644892692565918  \n",
      "邪恶        0.6628825664520264  \n",
      "守护神       0.6575490236282349  \n",
      "圣灵        0.6575265526771545  \n",
      "\n",
      "-------------------\n",
      "\n",
      "随机抽选的第4/5个数字： 截 \n",
      "\n",
      "相似度最高的10个词为：\n",
      "\n",
      "攔         0.5163486003875732  \n",
      "打中        0.47679275274276733 \n",
      "傳球        0.4760807752609253  \n",
      "射中        0.4747789800167084  \n",
      "接應        0.47236546874046326 \n",
      "籃板        0.4720928370952606  \n",
      "將球        0.4680476188659668  \n",
      "皮球        0.4671022295951843  \n",
      "助攻        0.4651937186717987  \n",
      "兩分        0.46240562200546265 \n",
      "\n",
      "-------------------\n",
      "\n",
      "随机抽选的第5/5个数字： 分组 \n",
      "\n",
      "相似度最高的10个词为：\n",
      "\n",
      "数据包       0.7422670722007751  \n",
      "数据流       0.7413527965545654  \n",
      "报文        0.7262816429138184  \n",
      "链路        0.7229584455490112  \n",
      "密钥        0.7185813188552856  \n",
      "编码        0.7012341022491455  \n",
      "校验        0.6983506679534912  \n",
      "栈         0.690540611743927   \n",
      "寄存器       0.6823284029960632  \n",
      "帧         0.679498553276062   \n",
      "\n",
      "-------------------\n"
     ]
    },
    {
     "name": "stderr",
     "output_type": "stream",
     "text": [
      "d:\\program_files\\miniconda3\\lib\\site-packages\\gensim\\matutils.py:737: FutureWarning: Conversion of the second argument of issubdtype from `int` to `np.signedinteger` is deprecated. In future, it will be treated as `np.int32 == np.dtype(int).type`.\n",
      "  if np.issubdtype(vec.dtype, np.int):\n"
     ]
    }
   ],
   "source": [
    "n3=0\n",
    "while True:\n",
    "    words_random = random.sample(words_all_single, 1)[0]\n",
    "    if words_random in model3.wv.vocab.keys():\n",
    "        n3+=1\n",
    "        print('\\n随机抽选的第{}/5个数字： {}'.format(n3,words_random),'\\n')\n",
    "        print('相似度最高的10个词为：\\n')\n",
    "        for i in model3.wv.most_similar(words_random):\n",
    "            print('{:<10}{:<20}'.format(i[0],i[1]))\n",
    "        print('\\n-------------------')\n",
    "    if n3==5:\n",
    "        break"
   ]
  },
  {
   "cell_type": "markdown",
   "metadata": {},
   "source": [
    "# Task 4"
   ]
  },
  {
   "cell_type": "code",
   "execution_count": 28,
   "metadata": {},
   "outputs": [],
   "source": [
    "model4 = Word2Vec([words_all.split()],min_count=1,size=200)"
   ]
  },
  {
   "cell_type": "code",
   "execution_count": 29,
   "metadata": {},
   "outputs": [
    {
     "name": "stdout",
     "output_type": "stream",
     "text": [
      "随机抽选的第1/5个数字： 数 \n",
      "\n",
      "相似度最高的10个词为：\n",
      "\n",
      "的         0.9919224977493286\n",
      "和         0.990704357624054\n",
      "与         0.9901132583618164\n",
      "应用        0.9894493818283081\n",
      "中         0.989235520362854\n",
      "实验        0.9878840446472168\n",
      "解         0.9874417781829834\n",
      "问题        0.9874029159545898\n",
      "定义        0.9869540929794312\n",
      "及其        0.9867161512374878\n",
      "\n",
      "---------------\n",
      "随机抽选的第2/5个数字： 三视图 \n",
      "\n",
      "相似度最高的10个词为：\n",
      "\n",
      "等         0.8120992183685303\n",
      "一元二次方程    0.8108184337615967\n",
      "特点        0.8106659650802612\n",
      "与         0.8067290782928467\n",
      "细胞        0.8064182996749878\n",
      "及其        0.8062081336975098\n",
      "整数        0.8061712980270386\n",
      "关系        0.8060632348060608\n",
      "的         0.8053901195526123\n",
      "探究        0.8047338724136353\n",
      "\n",
      "---------------\n",
      "随机抽选的第3/5个数字： 合数 \n",
      "\n",
      "相似度最高的10个词为：\n",
      "\n",
      "文艺复兴      0.3154507875442505\n",
      "爱琴        0.3078083395957947\n",
      "小方块       0.2833520472049713\n",
      "直接        0.2833397090435028\n",
      "代换        0.2800452709197998\n",
      "英国        0.2796751856803894\n",
      "制备        0.2789420485496521\n",
      "结合        0.27851468324661255\n",
      "公共        0.2771608233451843\n",
      "掌握        0.2761017382144928\n",
      "\n",
      "---------------\n",
      "随机抽选的第4/5个数字： 分区 \n",
      "\n",
      "相似度最高的10个词为：\n",
      "\n",
      "相等        0.28078851103782654\n",
      "相         0.27899277210235596\n",
      "牛顿        0.27774277329444885\n",
      "中央集权      0.27479416131973267\n",
      "有格        0.2715834081172943\n",
      "羧酸        0.26834768056869507\n",
      "国共        0.2652375102043152\n",
      "变法        0.264751136302948\n",
      "大洲        0.2632906436920166\n",
      "国家        0.2580084800720215\n",
      "\n",
      "---------------\n",
      "随机抽选的第5/5个数字： 正面战场 \n",
      "\n",
      "相似度最高的10个词为：\n",
      "\n",
      "民族区域      0.28323256969451904\n",
      "礼乐        0.27873459458351135\n",
      "都         0.27101069688796997\n",
      "一边        0.257207453250885\n",
      "五宫        0.2529420554637909\n",
      "解析        0.24199435114860535\n",
      "三角函数      0.24095465242862701\n",
      "高原        0.2387959212064743\n",
      "之商        0.23445835709571838\n",
      "线图        0.23302137851715088\n",
      "\n",
      "---------------\n"
     ]
    },
    {
     "name": "stderr",
     "output_type": "stream",
     "text": [
      "d:\\program_files\\miniconda3\\lib\\site-packages\\gensim\\matutils.py:737: FutureWarning: Conversion of the second argument of issubdtype from `int` to `np.signedinteger` is deprecated. In future, it will be treated as `np.int32 == np.dtype(int).type`.\n",
      "  if np.issubdtype(vec.dtype, np.int):\n"
     ]
    }
   ],
   "source": [
    "dict4 = dict()\n",
    "for word in words_all_single:\n",
    "    if word in model4.wv.vocab.keys():\n",
    "        vec = model4.wv[word]\n",
    "        dict4[word] = vec\n",
    "n4 = 0\n",
    "while True:\n",
    "    words_random = random.sample(words_all_single,1)[0]\n",
    "    if words_random in model4.wv.vocab.keys():\n",
    "        n4 += 1\n",
    "        print('随机抽选的第{}/5个数字： {}'.format(n4,words_random),'\\n')\n",
    "        print('相似度最高的10个词为：\\n')\n",
    "        for i in model4.wv.most_similar(words_random):\n",
    "            print('{:<10}{}'.format(i[0],i[1]))\n",
    "        print('\\n---------------')\n",
    "    if n4 == 5:\n",
    "        break"
   ]
  },
  {
   "cell_type": "markdown",
   "metadata": {},
   "source": [
    "# Task 5"
   ]
  },
  {
   "cell_type": "code",
   "execution_count": 30,
   "metadata": {},
   "outputs": [
    {
     "data": {
      "text/plain": [
       "['已知 为 定义 在 上 的 连续 可导 函数 且 则 不等式 的 解集 为',\n",
       " '已知 函数 则 方程 实根 的 个数 为',\n",
       " '将 所有 平面 向量 组成 的 集合 记 作 是从 到 的 映射 记作 或 其中 都 是 实数 定义 映射 的 模为 在 的 条件 下 的 最大值 记做 若 存在 非零 向量 及 实数 使得 则 称为 的 一个 特征值',\n",
       " '请 用 五点 法画 出 函数 在 长度 为 一个 周期 的 闭 区间 上 的 简图 先 在 所 给 的 表格 中填上 所 需 的 数值 再 画图',\n",
       " '求函数 的 极值']"
      ]
     },
     "execution_count": 30,
     "metadata": {},
     "output_type": "execute_result"
    }
   ],
   "source": [
    "que_fun_tri_content[0:5]"
   ]
  },
  {
   "cell_type": "code",
   "execution_count": 31,
   "metadata": {},
   "outputs": [],
   "source": [
    "def data_tage(cont):\n",
    "    data_taged = []\n",
    "    for i, doc in enumerate(cont):\n",
    "        docu = TaggedDocument(doc.split(),[i])\n",
    "        data_taged.append(docu)\n",
    "    return data_taged"
   ]
  },
  {
   "cell_type": "code",
   "execution_count": 32,
   "metadata": {},
   "outputs": [],
   "source": [
    "data_taged = data_tage(que_fun_tri_content)"
   ]
  },
  {
   "cell_type": "code",
   "execution_count": 33,
   "metadata": {},
   "outputs": [],
   "source": [
    "if 'model5' in vars():\n",
    "    del model5\n",
    "model5 = Doc2Vec(data_taged,min_count=1,vector_size=500)"
   ]
  },
  {
   "cell_type": "markdown",
   "metadata": {},
   "source": [
    "### 计算每个题目的向量"
   ]
  },
  {
   "cell_type": "code",
   "execution_count": 34,
   "metadata": {},
   "outputs": [],
   "source": [
    "data_vecs = []\n",
    "for i in range(len(data_taged)):\n",
    "    data_vecs.append(model5.infer_vector(data_taged[i].words))"
   ]
  },
  {
   "cell_type": "markdown",
   "metadata": {},
   "source": [
    "### 划分训练集和测试集并进行Logist回归"
   ]
  },
  {
   "cell_type": "code",
   "execution_count": 35,
   "metadata": {},
   "outputs": [],
   "source": [
    "X_train5, X_test5, y_train5, y_test5 = train_test_split(data_vecs,label_lo, test_size = 0.5, random_state = 0)"
   ]
  },
  {
   "cell_type": "code",
   "execution_count": 36,
   "metadata": {},
   "outputs": [
    {
     "name": "stdout",
     "output_type": "stream",
     "text": [
      "score:  0.7220966791118097 \n",
      " precision:  [0.72600729 0.59333333] \n",
      " recall:  [0.98327278 0.06170914] \n",
      " f_score:  [0.83527939 0.11179149]\n"
     ]
    }
   ],
   "source": [
    "Logist5 = LogisticRegression()\n",
    "Logist5.fit(X_train5, y_train5)\n",
    "score5 = Logist5.score(X_test5, y_test5)\n",
    "predict5 = Logist5.predict(X_test5)\n",
    "predict_prob5 = Logist5.predict_proba(X_test5)[:,1]\n",
    "precision5, recall5, f_score5, nnn5 = precision_recall_fscore_support(y_test5, predict5)\n",
    "print('score: ',score5,'\\n','precision: ',precision5,'\\n','recall: ',recall5,'\\n','f_score: ',f_score5)\n",
    "#auc_score = roc_auc_score(y_test5, predict5)"
   ]
  }
 ],
 "metadata": {
  "kernelspec": {
   "display_name": "Python 3",
   "language": "python",
   "name": "python3"
  },
  "language_info": {
   "codemirror_mode": {
    "name": "ipython",
    "version": 3
   },
   "file_extension": ".py",
   "mimetype": "text/x-python",
   "name": "python",
   "nbconvert_exporter": "python",
   "pygments_lexer": "ipython3",
   "version": "3.6.5"
  }
 },
 "nbformat": 4,
 "nbformat_minor": 2
}
